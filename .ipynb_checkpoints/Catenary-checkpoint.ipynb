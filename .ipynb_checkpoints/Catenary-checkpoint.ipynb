{
 "cells": [
  {
   "cell_type": "code",
   "execution_count": 5,
   "metadata": {},
   "outputs": [
    {
     "data": {
      "application/vnd.jupyter.widget-view+json": {
       "model_id": "b5e9edd57de244d9baea1d8c9663f6b7",
       "version_major": 2,
       "version_minor": 0
      },
      "text/html": [
       "<p>Failed to display Jupyter Widget of type <code>interactive</code>.</p>\n",
       "<p>\n",
       "  If you're reading this message in the Jupyter Notebook or JupyterLab Notebook, it may mean\n",
       "  that the widgets JavaScript is still loading. If this message persists, it\n",
       "  likely means that the widgets JavaScript library is either not installed or\n",
       "  not enabled. See the <a href=\"https://ipywidgets.readthedocs.io/en/stable/user_install.html\">Jupyter\n",
       "  Widgets Documentation</a> for setup instructions.\n",
       "</p>\n",
       "<p>\n",
       "  If you're reading this message in another frontend (for example, a static\n",
       "  rendering on GitHub or <a href=\"https://nbviewer.jupyter.org/\">NBViewer</a>),\n",
       "  it may mean that your frontend doesn't currently support widgets.\n",
       "</p>\n"
      ],
      "text/plain": [
       "interactive(children=(IntSlider(value=20, description='x1', min=1), IntSlider(value=50, description='y1', max=200, min=-200), IntSlider(value=120, description='x2', max=300, min=1), IntSlider(value=4, description='y2', max=200, min=-200), IntSlider(value=100, description='s_user', max=400), Output()), _dom_classes=('widget-interact',))"
      ]
     },
     "metadata": {},
     "output_type": "display_data"
    }
   ],
   "source": [
    "import numpy as np\n",
    "import matplotlib.pyplot as plt\n",
    "from scipy.optimize import minimize\n",
    "from __future__ import print_function\n",
    "from ipywidgets import interact, interactive, fixed, interact_manual\n",
    "import ipywidgets as widgets\n",
    "from IPython.display import HTML\n",
    "\n",
    "def computeCatenary(x1,y1,x2,y2,s_user):\n",
    "    p1 = [x1,y1]\n",
    "    p2 = [x2,y2]\n",
    "\n",
    "    v = np.abs(p1[1] - p2[1])\n",
    "    h = np.abs(p1[0] - p2[0])\n",
    "    s = np.sqrt(v*v + h*h) + s_user #minimum length + user defined length\n",
    "\n",
    "    def ctn(a,x):\n",
    "        return a*np.cosh(x/a)\n",
    "\n",
    "    def f(a):\n",
    "        return np.sqrt(s*s - v*v) - 2*a*np.sinh(h/(2*a))\n",
    "\n",
    "    def f_sq(a):\n",
    "        return f(a)*f(a)\n",
    "    \n",
    "    # from https://stackoverflow.com/questions/43047463/find-root-of-a-transcendental-equation-with-python\n",
    "    res = minimize(lambda a: f_sq(a), x0=1)\n",
    "    a = res.x[0]\n",
    "\n",
    "\n",
    "    #find lowest point in global frame, this idea from https://mysite.du.edu/~jcalvert/math/catenary.htm\n",
    "    def C(x, x1, y1, x2, y2, a):\n",
    "        xm = (x1+x2)/2\n",
    "        deltax = (x2-x1)/2\n",
    "        return (y2-y1)/a - 2*np.sinh((xm-x)/a)*np.sinh(deltax/a) \n",
    "\n",
    "    def C_sq(x):\n",
    "        return C(x, p1[0], p1[1], p2[0], p2[1], a) * C(x, p1[0], p1[1], p2[0], p2[1], a)\n",
    "\n",
    "    res2 = minimize(lambda x: C_sq(x), x0=1)\n",
    "    xlow = res2.x[0] # this is the x coordinate of the lowest point in the catenary (marked by the vertical line)\n",
    "\n",
    "\n",
    "    #in a local reference frame, compute the catenary as if the lowest point ylow is at x=0\n",
    "    xlocal = np.arange(p1[0]-xlow, p2[0]-xlow, 0.01)\n",
    "    ylocal = a*np.cosh(xlocal/a)\n",
    "    ytransform = p1[1] - ylocal[0]\n",
    "    xtransform = xlow\n",
    "\n",
    "    plt.figure(figsize=[20,10])\n",
    "    plt.scatter(p1[0], p1[1], color='k')\n",
    "    plt.scatter(p2[0], p2[1], color='k')\n",
    "    plt.axvline(xlow, linestyle='--')\n",
    "\n",
    "    plt.plot(xlocal + xtransform, ylocal + ytransform, color='y')\n",
    "    plt.xlim([0, 400])\n",
    "    plt.ylim([-200,200])\n",
    "    return h,v,s,a,xlow\n",
    "\n",
    "interact(computeCatenary, x1=widgets.IntSlider(min=1,max=100,step=1,value=20),\n",
    "                          y1=widgets.IntSlider(min=-200,max=200,step=1,value=50),\n",
    "                          x2=widgets.IntSlider(min=1,max=300,step=1,value=120), \n",
    "                          y2=widgets.IntSlider(min=-200,max=200,step=1,value=4),\n",
    "                          s_user=widgets.IntSlider(min=1,max=400,step=1,value=100));"
   ]
  },
  {
   "cell_type": "code",
   "execution_count": 7,
   "metadata": {},
   "outputs": [
    {
     "data": {
      "text/html": [
       "\n",
       "    <script src=\"https://cdnjs.cloudflare.com/ajax/libs/numeric/1.2.6/numeric.min.js\"></script>\n",
       "    <script>\n",
       "        \n",
       "        s = 210.0727032465361\n",
       "        v = 46\n",
       "        h = 100\n",
       "        a_soll = 22.51835207734708\n",
       "        left = Math.sqrt(s*s - v*v)\n",
       "        \n",
       "        sqr = function(x) { return x*x; }; \n",
       "        afun = function(a) { return left  - 2*a*Math.sinh(h/(2*a)) }\n",
       "        res = numeric.uncmin(function(x) { return sqr(afun(x)); },[10])\n",
       "        a = res.solution\n",
       "        console.log(a)       \n",
       "    </script>\n"
      ],
      "text/plain": [
       "<IPython.core.display.HTML object>"
      ]
     },
     "execution_count": 7,
     "metadata": {},
     "output_type": "execute_result"
    }
   ],
   "source": [
    "#using numeric.js to solve for a\n",
    "js = '''\n",
    "    <script src=\"https://cdnjs.cloudflare.com/ajax/libs/numeric/1.2.6/numeric.min.js\"></script>\n",
    "    <script>\n",
    "        \n",
    "        s = 210.0727032465361\n",
    "        v = 46\n",
    "        h = 100\n",
    "        a_soll = 22.51835207734708\n",
    "        left = Math.sqrt(s*s - v*v)\n",
    "        \n",
    "        sqr = function(x) { return x*x; }; \n",
    "        afun = function(a) { return left  - 2*a*Math.sinh(h/(2*a)) }\n",
    "        res = numeric.uncmin(function(x) { return sqr(afun(x)); },[10])\n",
    "        a = res.solution\n",
    "        console.log(a)       \n",
    "    </script>\n",
    "'''\n",
    "\n",
    "HTML(js)"
   ]
  }
 ],
 "metadata": {
  "kernelspec": {
   "display_name": "Python 3",
   "language": "python",
   "name": "python3"
  },
  "language_info": {
   "codemirror_mode": {
    "name": "ipython",
    "version": 3
   },
   "file_extension": ".py",
   "mimetype": "text/x-python",
   "name": "python",
   "nbconvert_exporter": "python",
   "pygments_lexer": "ipython3",
   "version": "3.6.4"
  }
 },
 "nbformat": 4,
 "nbformat_minor": 2
}
